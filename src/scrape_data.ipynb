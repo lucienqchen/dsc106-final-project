{
 "cells": [
  {
   "cell_type": "code",
   "execution_count": 33,
   "metadata": {},
   "outputs": [],
   "source": [
    "import pandas as pd\n",
    "import pokebase as pb\n",
    "import numpy as np"
   ]
  },
  {
   "cell_type": "code",
   "execution_count": 30,
   "metadata": {},
   "outputs": [],
   "source": [
    "pokemon = pb.pokemon(1)"
   ]
  },
  {
   "cell_type": "code",
   "execution_count": 31,
   "metadata": {},
   "outputs": [
    {
     "data": {
      "text/plain": [
       "<location-bulbasaur>"
      ]
     },
     "execution_count": 31,
     "metadata": {},
     "output_type": "execute_result"
    }
   ],
   "source": [
    "pb.location('bulbasaur')"
   ]
  },
  {
   "cell_type": "code",
   "execution_count": 32,
   "metadata": {},
   "outputs": [
    {
     "data": {
      "text/plain": [
       "'ivysaur'"
      ]
     },
     "execution_count": 32,
     "metadata": {},
     "output_type": "execute_result"
    }
   ],
   "source": [
    "pb.evolution_chain(1).chain.evolves_to[0].species.name"
   ]
  },
  {
   "cell_type": "code",
   "execution_count": 33,
   "metadata": {},
   "outputs": [],
   "source": [
    "df = pd.DataFrame(columns=['id', 'name', 'height', 'weight', 'base-eperience', 'hp', 'attack', 'defense', 'special-attack', 'special-defense', 'speed', 'primary-type', 'secondary-type'])\n"
   ]
  },
  {
   "cell_type": "code",
   "execution_count": 34,
   "metadata": {},
   "outputs": [],
   "source": [
    "def get_info(id):\n",
    "    \n",
    "    pokemon = pb.pokemon(id)\n",
    "    \n",
    "    order = id\n",
    "    \n",
    "    name = pokemon.name\n",
    "    \n",
    "    height = pokemon.height\n",
    "    \n",
    "    weight = pokemon.weight\n",
    "    \n",
    "    base_exp = pokemon.base_experience\n",
    "    \n",
    "    stats = pokemon.stats\n",
    "    \n",
    "    hp = stats[0].base_stat\n",
    "    \n",
    "    atk = stats[1].base_stat\n",
    "    \n",
    "    defense = stats[2].base_stat\n",
    "    \n",
    "    spatk = stats[3].base_stat\n",
    "    \n",
    "    spdef = stats[4].base_stat\n",
    "    \n",
    "    speed = stats[5].base_stat\n",
    "    \n",
    "    ptype = str(pokemon.types[0].type)\n",
    "    \n",
    "    stype = str(pokemon.types[-1].type)\n",
    "    \n",
    "    try:\n",
    "        evolution = pb.evolution_chain(id).chain.evolves_to[0].species.name\n",
    "    except:\n",
    "        evolution = np.NaN\n",
    "    \n",
    "    if stype == ptype:\n",
    "        stype = np.NaN\n",
    "        \n",
    "    info = {\n",
    "        \"id\": order,\n",
    "        \"name\": name,\n",
    "        \"height\": height,\n",
    "        \"weight\": weight,\n",
    "        \"base-experience\": base_exp,\n",
    "        \"hp\": hp,\n",
    "        \"attack\": atk,\n",
    "        \"defense\": defense,\n",
    "        \"special-attack\": spatk,\n",
    "        \"special-defense\": spdef,\n",
    "        \"speed\": speed,\n",
    "        \"primary-type\": ptype,\n",
    "        \"secondary-type\": stype,\n",
    "    }\n",
    "    \n",
    "    return info"
   ]
  },
  {
   "cell_type": "code",
   "execution_count": 35,
   "metadata": {},
   "outputs": [],
   "source": [
    "for i in range(1010):\n",
    "    df.loc[i] = get_info(i+1)"
   ]
  },
  {
   "cell_type": "code",
   "execution_count": 2,
   "metadata": {},
   "outputs": [
    {
     "ename": "NameError",
     "evalue": "name 'df' is not defined",
     "output_type": "error",
     "traceback": [
      "\u001b[0;31m---------------------------------------------------------------------------\u001b[0m",
      "\u001b[0;31mNameError\u001b[0m                                 Traceback (most recent call last)",
      "Cell \u001b[0;32mIn[2], line 1\u001b[0m\n\u001b[0;32m----> 1\u001b[0m df[\u001b[39m'\u001b[39m\u001b[39mname\u001b[39m\u001b[39m'\u001b[39m] \u001b[39m=\u001b[39m df[\u001b[39m'\u001b[39m\u001b[39mname\u001b[39m\u001b[39m'\u001b[39m]\u001b[39m.\u001b[39mstr\u001b[39m.\u001b[39mtitle()\n\u001b[1;32m      2\u001b[0m df\n",
      "\u001b[0;31mNameError\u001b[0m: name 'df' is not defined"
     ]
    }
   ],
   "source": [
    "df['name'] = df['name'].str.title()\n",
    "df"
   ]
  },
  {
   "cell_type": "code",
   "execution_count": 111,
   "metadata": {},
   "outputs": [
    {
     "data": {
      "text/plain": [
       "'ivysaur'"
      ]
     },
     "execution_count": 111,
     "metadata": {},
     "output_type": "execute_result"
    }
   ],
   "source": [
    "str(pb.evolution_chain(1).chain.evolves_to[0].species)"
   ]
  },
  {
   "cell_type": "code",
   "execution_count": 130,
   "metadata": {},
   "outputs": [
    {
     "data": {
      "text/plain": [
       "<pokebase.interface.APIMetadata at 0x7fb56bdd8220>"
      ]
     },
     "execution_count": 130,
     "metadata": {},
     "output_type": "execute_result"
    }
   ],
   "source": [
    "pb.evolution_chain(1).chain.evolves_to[0].evolves_to[0]"
   ]
  },
  {
   "cell_type": "code",
   "execution_count": 4,
   "metadata": {},
   "outputs": [],
   "source": [
    "def get_evolutions(id):\n",
    "    \n",
    "    try:\n",
    "        evolution_chain = pb.evolution_chain(id).chain\n",
    "    except:\n",
    "        return\n",
    "    \n",
    "    current = str(evolution_chain.species)\n",
    "    \n",
    "    evolutions = {}\n",
    "    \n",
    "    if evolution_chain.evolves_to:\n",
    "        while evolution_chain.evolves_to:\n",
    "            evos = [str(e.species) for e in evolution_chain.evolves_to]\n",
    "            next_evo = evolution_chain.evolves_to[0]\n",
    "            for evo in evos:\n",
    "                evolutions[evo] = current\n",
    "            current = str(next_evo.species)\n",
    "            evolution_chain = next_evo\n",
    "    else:\n",
    "        evolutions[current] = np.NaN\n",
    "        \n",
    "    return evolutions"
   ]
  },
  {
   "cell_type": "code",
   "execution_count": 26,
   "metadata": {},
   "outputs": [],
   "source": [
    "i = 1\n",
    "frames = []\n",
    "for i in range(539):\n",
    "    evo_df = pd.DataFrame(columns=['name', 'evolves-from'])\n",
    "    evo = get_evolutions(i)\n",
    "    if evo is None:\n",
    "        continue\n",
    "    evo_df['name'] = evo.keys()\n",
    "    evo_df['evolves-from'] = evo.values()\n",
    "    frames.append(evo_df)\n",
    "    i += 1"
   ]
  }
 ],
 "metadata": {
  "kernelspec": {
   "display_name": "poke",
   "language": "python",
   "name": "python3"
  },
  "language_info": {
   "codemirror_mode": {
    "name": "ipython",
    "version": 3
   },
   "file_extension": ".py",
   "mimetype": "text/x-python",
   "name": "python",
   "nbconvert_exporter": "python",
   "pygments_lexer": "ipython3",
   "version": "3.9.16"
  },
  "orig_nbformat": 4
 },
 "nbformat": 4,
 "nbformat_minor": 2
}
